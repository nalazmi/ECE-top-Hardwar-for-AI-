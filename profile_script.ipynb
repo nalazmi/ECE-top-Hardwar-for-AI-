{
 "cells": [
  {
   "cell_type": "code",
   "execution_count": 1,
   "id": "e7f759de",
   "metadata": {},
   "outputs": [
    {
     "name": "stdout",
     "output_type": "stream",
     "text": [
      "         5 function calls in 1.577 seconds\n",
      "\n",
      "   Ordered by: internal time\n",
      "\n",
      "   ncalls  tottime  percall  cumtime  percall filename:lineno(function)\n",
      "        1    1.577    1.577    1.577    1.577 {built-in method numpy.core._multiarray_umath.implement_array_function}\n",
      "        1    0.000    0.000    1.577    1.577 <__array_function__ internals>:177(dot)\n",
      "        1    0.000    0.000    1.577    1.577 2714592482.py:6(matrix_multiply)\n",
      "        1    0.000    0.000    0.000    0.000 {method 'disable' of '_lsprof.Profiler' objects}\n",
      "        1    0.000    0.000    0.000    0.000 multiarray.py:740(dot)\n",
      "\n",
      "\n"
     ]
    }
   ],
   "source": [
    "import cProfile\n",
    "\n",
    "if __name__ == \"__main__\":\n",
    "    import numpy as np\n",
    "\n",
    "    def matrix_multiply(A, B):\n",
    "        return np.dot(A, B)\n",
    "\n",
    "    A = np.random.rand(500, 500)\n",
    "    B = np.random.rand(500, 500)\n",
    "\n",
    "    profiler = cProfile.Profile()\n",
    "    profiler.enable()\n",
    "    result = matrix_multiply(A, B)\n",
    "    profiler.disable()\n",
    "    profiler.print_stats(sort=\"time\")"
   ]
  },
  {
   "cell_type": "code",
   "execution_count": null,
   "id": "d0c221a3",
   "metadata": {},
   "outputs": [],
   "source": []
  }
 ],
 "metadata": {
  "kernelspec": {
   "display_name": "Python 3 (ipykernel)",
   "language": "python",
   "name": "python3"
  },
  "language_info": {
   "codemirror_mode": {
    "name": "ipython",
    "version": 3
   },
   "file_extension": ".py",
   "mimetype": "text/x-python",
   "name": "python",
   "nbconvert_exporter": "python",
   "pygments_lexer": "ipython3",
   "version": "3.11.3"
  }
 },
 "nbformat": 4,
 "nbformat_minor": 5
}
