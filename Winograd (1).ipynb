{
 "cells": [
  {
   "cell_type": "code",
   "execution_count": 1,
   "id": "28c15f53",
   "metadata": {},
   "outputs": [],
   "source": [
    "import numpy as np\n",
    "G = np.array([\n",
    "    [1, 0, 0],\n",
    "    [0.5, 0.5, 0.5],\n",
    "    [0.5, -0.5, 0.5],\n",
    "    [0, 0, 1]\n",
    "])\n",
    "\n",
    "B = np.array([\n",
    "    [1, 0, -1, 0],\n",
    "    [0, 1, 1, 0],\n",
    "    [0, -1, 1, 0],\n",
    "    [0, 1, 0, -1]\n",
    "])\n",
    "\n",
    "A = np.array([\n",
    "    [1, 1, 1, 0],\n",
    "    [0, 1, -1, -1]\n",
    "])\n",
    "\n",
    "\n",
    "def winograd_f2x2_kernel(kernel):\n",
    "    return G @ kernel @ G.T\n",
    "\n",
    "\n",
    "def winograd_f2x2_input(tile):\n",
    "    return B.T @ tile @ B\n",
    "\n",
    "\n",
    "def winograd_output(Y):\n",
    "    return A @ Y @ A.T \n",
    "\n",
    "\n",
    "def winograd_conv2d(input_feature, kernel):\n",
    "    U = winograd_f2x2_kernel(kernel)\n",
    "    output_shape = (input_feature.shape[0] - 2, input_feature.shape[1] - 2)\n",
    "    output = np.zeros(output_shape)\n",
    "    for i in range(0, input_feature.shape[0] - 3, 2):\n",
    "        for j in range(0, input_feature.shape[1] - 3, 2):\n",
    "            tile = input_feature[i:i + 4, j:j + 4]\n",
    "            V = winograd_f2x2_input(tile)\n",
    "            Y = U * V\n",
    "            Z = winograd_output(Y)\n",
    "            output[i:i + 2, j:j + 2] = Z\n",
    "\n",
    "    return output\n"
   ]
  },
  {
   "cell_type": "code",
   "execution_count": 2,
   "id": "7f7782b9",
   "metadata": {},
   "outputs": [
    {
     "name": "stdout",
     "output_type": "stream",
     "text": [
      "Input Feature Map:\n",
      "[[ 1  2  3  4  5  6]\n",
      " [ 7  8  9 10 11 12]\n",
      " [13 14 15 16 17 18]\n",
      " [19 20 21 22 23 24]\n",
      " [25 26 27 28 29 30]\n",
      " [31 32 33 34 35 36]]\n",
      "\n",
      "Kernel:\n",
      "[[0 0 0]\n",
      " [0 1 0]\n",
      " [0 0 0]]\n",
      "\n",
      "Output Feature Map:\n",
      "[[ 0.  -3.   0.  -3. ]\n",
      " [-0.5 18.5 -0.5 20.5]\n",
      " [ 0.  -3.   0.  -3. ]\n",
      " [-0.5 30.5 -0.5 32.5]]\n"
     ]
    }
   ],
   "source": [
    "if __name__ == \"__main__\":\n",
    "    input_feature = np.array([\n",
    "        [1, 2, 3, 4, 5, 6],\n",
    "        [7, 8, 9, 10, 11, 12],\n",
    "        [13, 14, 15, 16, 17, 18],\n",
    "        [19, 20, 21, 22, 23, 24],\n",
    "        [25, 26, 27, 28, 29, 30],\n",
    "        [31, 32, 33, 34, 35, 36]\n",
    "    ])\n",
    "\n",
    "    kernel = np.array([\n",
    "        [0, 0, 0],\n",
    "        [0, 1, 0],\n",
    "        [0, 0, 0]\n",
    "    ])\n",
    "\n",
    "    output_feature = winograd_conv2d(input_feature, kernel)\n",
    "\n",
    "    print(\"Input Feature Map:\")\n",
    "    print(input_feature)\n",
    "    print(\"\\nKernel:\")\n",
    "    print(kernel)\n",
    "    print(\"\\nOutput Feature Map:\")\n",
    "    print(output_feature)\n"
   ]
  },
  {
   "cell_type": "markdown",
   "id": "a93dd125",
   "metadata": {},
   "source": [
    "**2D Convolution**"
   ]
  },
  {
   "cell_type": "code",
   "execution_count": 2,
   "id": "56e58b23",
   "metadata": {},
   "outputs": [
    {
     "name": "stdout",
     "output_type": "stream",
     "text": [
      "Input Matrix:\n",
      " [[1 0 8 4 1 9]\n",
      " [8 5 4 0 7 2]\n",
      " [2 1 0 8 4 9]\n",
      " [1 2 4 7 0 7]\n",
      " [2 5 5 1 9 1]\n",
      " [4 6 7 1 5 9]]\n",
      "Kernel:\n",
      " [[1 3 2]\n",
      " [4 4 1]\n",
      " [4 2 0]]\n",
      "Output Matrix:\n",
      " [[ 83.  72.  61.  95.]\n",
      " [ 51.  45.  84. 110.]\n",
      " [ 39.  78.  98.  95.]\n",
      " [ 76. 107.  88.  76.]]\n",
      "Execution Time: 0.020085 seconds\n"
     ]
    }
   ],
   "source": [
    "import time\n",
    "import numpy as np\n",
    "\n",
    "def conv2d(input_matrix, kernel):\n",
    "    H, W = input_matrix.shape\n",
    "    K, _ = kernel.shape\n",
    "    output_size = H - K + 1\n",
    "    output_matrix = np.zeros((output_size, output_size))\n",
    "\n",
    "    for i in range(output_size):\n",
    "        for j in range(output_size):\n",
    "            region = input_matrix[i:i+K, j:j+K]\n",
    "            output_matrix[i, j] = np.sum(region * kernel)\n",
    "\n",
    "    return output_matrix\n",
    "\n",
    "input_matrix = np.random.randint(0, 10, (6, 6))\n",
    "kernel = np.random.randint(0, 5, (3, 3)) \n",
    "\n",
    "start_time = time.time()\n",
    "output_matrix = conv2d(input_matrix, kernel)\n",
    "end_time = time.time()\n",
    "\n",
    "print(\"Input Matrix:\\n\", input_matrix)\n",
    "print(\"Kernel:\\n\", kernel)\n",
    "print(\"Output Matrix:\\n\", output_matrix)\n",
    "print(f\"Execution Time: {end_time - start_time:.6f} seconds\")"
   ]
  },
  {
   "cell_type": "code",
   "execution_count": null,
   "id": "e940a747",
   "metadata": {},
   "outputs": [],
   "source": []
  }
 ],
 "metadata": {
  "kernelspec": {
   "display_name": "Python 3 (ipykernel)",
   "language": "python",
   "name": "python3"
  },
  "language_info": {
   "codemirror_mode": {
    "name": "ipython",
    "version": 3
   },
   "file_extension": ".py",
   "mimetype": "text/x-python",
   "name": "python",
   "nbconvert_exporter": "python",
   "pygments_lexer": "ipython3",
   "version": "3.11.3"
  }
 },
 "nbformat": 4,
 "nbformat_minor": 5
}
